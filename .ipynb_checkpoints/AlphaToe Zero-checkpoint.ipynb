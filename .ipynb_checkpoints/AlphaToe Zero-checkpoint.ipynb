{
 "cells": [
  {
   "cell_type": "code",
   "execution_count": 46,
   "id": "17b2b59a",
   "metadata": {},
   "outputs": [],
   "source": [
    "from board import tick_tack_toe\n",
    "import numpy as np"
   ]
  },
  {
   "cell_type": "code",
   "execution_count": 47,
   "id": "a5422ee8",
   "metadata": {},
   "outputs": [
    {
     "data": {
      "text/plain": [
       "[1, 2, 3, 4, 5, 6, 7, 8, 9]"
      ]
     },
     "execution_count": 47,
     "metadata": {},
     "output_type": "execute_result"
    }
   ],
   "source": [
    "game2 = tick_tack_toe()\n",
    "game2.avail_moves"
   ]
  },
  {
   "cell_type": "code",
   "execution_count": 56,
   "id": "ead062b0",
   "metadata": {},
   "outputs": [],
   "source": [
    "game = tick_tack_toe()\n",
    "a = game.play(1, 2)"
   ]
  },
  {
   "cell_type": "code",
   "execution_count": 60,
   "id": "79dae360",
   "metadata": {},
   "outputs": [
    {
     "data": {
      "text/plain": [
       "[2, 0, 0, 0, 0, 0, 0, 0, 0]"
      ]
     },
     "execution_count": 60,
     "metadata": {},
     "output_type": "execute_result"
    }
   ],
   "source": [
    "list(a[0].values())"
   ]
  },
  {
   "cell_type": "code",
   "execution_count": 54,
   "id": "fe109a14",
   "metadata": {},
   "outputs": [],
   "source": [
    "class Node:\n",
    "    \n",
    "    def __init__(self, state):\n",
    "        \n",
    "        self.state = state\n",
    "        self.avail_moves = game.avail_moves\n",
    "        self.parent = None\n",
    "        self.children = []\n",
    "        self.Q = 0\n",
    "        self.N = 0\n",
    "        self.W = 0\n",
    "        self.P = 0\n",
    "        self.v = 0\n",
    "        \n",
    "        if len(self.children) == 0:\n",
    "            self.leaf_node = True        \n",
    "        \n",
    "class MCTS:        \n",
    "    \n",
    "    def __init__(self, states):\n",
    "      \n",
    "        self.states = states\n",
    "        \n",
    "    def simulate(self, current_node):\n",
    "        \n",
    "        #get current node\n",
    "        current_node = self.states[state]\n",
    "        \n",
    "        #exploit root or expore\n",
    "        exp = np.random.choice([1, 0], p = [0.9, 0.1])\n",
    "        \n",
    "        if current_node.leaf_node:\n",
    "            \n",
    "            #use the neural network to calculate the p and v\n",
    "            #P, v = current_model.predict(current_node) #check this once the neural network is programmed\n",
    "            P = 0\n",
    "            v = 0\n",
    "            \n",
    "            #make a node\n",
    "            current_node\n",
    "            \n",
    "            #update the node parameters\n",
    "            self.update(current_node, P, v)\n",
    "            states.append(current_node)\n",
    "            \n",
    "            return P, v\n",
    "        \n",
    "        else:\n",
    "            \n",
    "            ucb = -inf\n",
    "            \n",
    "            for child in current_node.children:\n",
    "                \n",
    "                #calculate the ucb value for the child\n",
    "                ucb_val = calc_ucb(child)\n",
    "                \n",
    "                if ucb_val > ucb:\n",
    "                    \n",
    "                    ucb = ucb_val\n",
    "                    new_node = child       \n",
    "            \n",
    "            return self.simulate(new_node)\n",
    "                \n",
    "            \n",
    "            \n",
    "            \n",
    "    def rand_move(self, node):\n",
    "        \n",
    "        #pic a random move from the available moves \n",
    "        avail_moves = node.avail_moves\n",
    "        \n",
    "        #choose random move from available moves\n",
    "        move = np.random.choice(avail_move)\n",
    "        \n",
    "        game.play(move, 1)\n",
    "        \n",
    "        #change the state with the move\n",
    "        node.state[move - 1] = move\n",
    "        \n",
    "        return node\n",
    "        \n",
    "        \n",
    "    \n",
    "    def calc_ucb(self, node):\n",
    "\n",
    "        ucb_val = node.Q + node.P/(1 + node.N)\n",
    "\n",
    "        return ucb_val\n",
    "\n",
    "    def update(self, node, P = 0, v = 0):\n",
    "        \n",
    "        node.N += 1\n",
    "        node.W = node.W + v\n",
    "        node.Q = node.W/node.N\n",
    "        node.P = P\n",
    "        node.v = v\n",
    "        "
   ]
  },
  {
   "cell_type": "code",
   "execution_count": 66,
   "id": "bed03d3b",
   "metadata": {},
   "outputs": [
    {
     "ename": "SyntaxError",
     "evalue": "unexpected EOF while parsing (<ipython-input-66-355d7425d962>, line 12)",
     "output_type": "error",
     "traceback": [
      "\u001b[1;36m  File \u001b[1;32m\"<ipython-input-66-355d7425d962>\"\u001b[1;36m, line \u001b[1;32m12\u001b[0m\n\u001b[1;33m    \u001b[0m\n\u001b[1;37m    ^\u001b[0m\n\u001b[1;31mSyntaxError\u001b[0m\u001b[1;31m:\u001b[0m unexpected EOF while parsing\n"
     ]
    }
   ],
   "source": [
    "game = tick_tack_toe()\n",
    "a = game.play(1, 2)\n",
    "current_node = Node(list(a[0].values()))\n",
    "#states\n",
    "states = []\n",
    "\n",
    "for i in range(10):\n",
    "    \n",
    "    \n",
    "\n",
    "    \n",
    "    "
   ]
  },
  {
   "cell_type": "code",
   "execution_count": null,
   "id": "431c9313",
   "metadata": {},
   "outputs": [],
   "source": []
  },
  {
   "cell_type": "code",
   "execution_count": null,
   "id": "aa93f33f",
   "metadata": {},
   "outputs": [],
   "source": []
  },
  {
   "cell_type": "code",
   "execution_count": null,
   "id": "59cbb293",
   "metadata": {},
   "outputs": [],
   "source": []
  }
 ],
 "metadata": {
  "kernelspec": {
   "display_name": "Python 3",
   "language": "python",
   "name": "python3"
  },
  "language_info": {
   "codemirror_mode": {
    "name": "ipython",
    "version": 3
   },
   "file_extension": ".py",
   "mimetype": "text/x-python",
   "name": "python",
   "nbconvert_exporter": "python",
   "pygments_lexer": "ipython3",
   "version": "3.8.8"
  }
 },
 "nbformat": 4,
 "nbformat_minor": 5
}
