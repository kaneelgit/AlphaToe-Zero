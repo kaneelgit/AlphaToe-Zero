{
 "cells": [
  {
   "cell_type": "code",
   "execution_count": 8,
   "id": "17b2b59a",
   "metadata": {},
   "outputs": [],
   "source": [
    "from board import tick_tack_toe\n",
    "import numpy as np"
   ]
  },
  {
   "cell_type": "code",
   "execution_count": 9,
   "id": "a5422ee8",
   "metadata": {},
   "outputs": [
    {
     "data": {
      "text/plain": [
       "[1, 2, 3, 4, 5, 6, 7, 8, 9]"
      ]
     },
     "execution_count": 9,
     "metadata": {},
     "output_type": "execute_result"
    }
   ],
   "source": [
    "game2 = tick_tack_toe()\n",
    "game2.avail_moves"
   ]
  },
  {
   "cell_type": "code",
   "execution_count": 10,
   "id": "ead062b0",
   "metadata": {},
   "outputs": [],
   "source": [
    "game = tick_tack_toe()\n",
    "a = game.play(1, 2)"
   ]
  },
  {
   "cell_type": "code",
   "execution_count": 11,
   "id": "79dae360",
   "metadata": {},
   "outputs": [
    {
     "data": {
      "text/plain": [
       "[2, 0, 0, 0, 0, 0, 0, 0, 0]"
      ]
     },
     "execution_count": 11,
     "metadata": {},
     "output_type": "execute_result"
    }
   ],
   "source": [
    "list(a[0].values())"
   ]
  },
  {
   "cell_type": "code",
   "execution_count": 18,
   "id": "fe109a14",
   "metadata": {},
   "outputs": [],
   "source": [
    "class Node:\n",
    "    \n",
    "    def __init__(self, state):\n",
    "        \n",
    "        self.state = state\n",
    "        self.avail_moves = game.avail_moves\n",
    "        self.parent = None\n",
    "        self.children = []\n",
    "        self.Q = 0\n",
    "        self.N = 0\n",
    "        self.W = 0\n",
    "        self.P = 0\n",
    "        self.v = 0\n",
    "        \n",
    "        if len(self.children) == 0:\n",
    "            self.leaf_node = True        \n",
    "        \n",
    "class MCTS:        \n",
    "    \n",
    "    def __init__(self, states):\n",
    "      \n",
    "        self.states = states\n",
    "        \n",
    "    def simulate(self, state, path):\n",
    "        \n",
    "        #get current node\n",
    "        current_node = self.states[tuple(state)]\n",
    "        \n",
    "        #path\n",
    "        path.append(current_node.state)\n",
    "        \n",
    "        #exploit root or explore\n",
    "        exp = np.random.choice([1, 0], p = [0.9, 0.1])\n",
    "        \n",
    "        if current_node.leaf_node:\n",
    "            \n",
    "            #use the neural network to calculate the p and v\n",
    "            #P, v = current_model.predict(current_node) #check this once the neural network is programmed\n",
    "            P = 0\n",
    "            v = 0\n",
    "            \n",
    "            #update the node parameters\n",
    "            self.update(current_node, P, v)\n",
    "            current_node.parent = path[-1]\n",
    "            self.states[tuple(current_node.state)] = current_node\n",
    "            \n",
    "            return P, v\n",
    "        \n",
    "        else:\n",
    "            \n",
    "            ucb = -inf\n",
    "            \n",
    "            for child in current_node.children:\n",
    "                \n",
    "                #calculate the ucb value for the child\n",
    "                ucb_val = calc_ucb(child)\n",
    "                \n",
    "                if ucb_val > ucb:\n",
    "                    \n",
    "                    ucb = ucb_val\n",
    "                    new_node = child       \n",
    "            \n",
    "            return self.simulate(new_node.state, path)\n",
    "                \n",
    "            \n",
    "            \n",
    "            \n",
    "    def rand_move(self, node, player):\n",
    "        \n",
    "        #pic a random move from the available moves \n",
    "        #avail_moves = node.avail_moves\n",
    "        #avail_moves = list(np.where(np.array([node.state]) == 0)[1])\n",
    "        avail_moves = game.avail_moves\n",
    "\n",
    "        #choose random move from available moves\n",
    "        move = np.random.choice(avail_moves)       \n",
    "        \n",
    "        #change the state with the move\n",
    "        node.state[move - 1] = player\n",
    "        \n",
    "        \n",
    "        \n",
    "        return node, move\n",
    "        \n",
    "        \n",
    "    \n",
    "    def calc_ucb(self, node):\n",
    "\n",
    "        ucb_val = node.Q + node.P/(1 + node.N)\n",
    "\n",
    "        return ucb_val\n",
    "\n",
    "    def update(self, node, P = 0, v = 0):\n",
    "        \n",
    "        node.N += 1\n",
    "        node.W = node.W + v\n",
    "        node.Q = node.W/node.N\n",
    "        node.P = P\n",
    "        node.v = v\n",
    "        "
   ]
  },
  {
   "cell_type": "code",
   "execution_count": 23,
   "id": "bed03d3b",
   "metadata": {},
   "outputs": [
    {
     "name": "stdout",
     "output_type": "stream",
     "text": [
      "    |    |   \n",
      " 2  | 0  | 0\n",
      "____|____|___\n",
      "    |    |  \n",
      " 1  | 0  | 0\n",
      "____|____|___\n",
      "    |    |  \n",
      " 0  | 0  | 0\n",
      "    |    |  \n",
      "    |    |   \n",
      " 2  | 0  | 0\n",
      "____|____|___\n",
      "    |    |  \n",
      " 1  | 0  | 0\n",
      "____|____|___\n",
      "    |    |  \n",
      " 2  | 0  | 0\n",
      "    |    |  \n",
      "    |    |   \n",
      " 2  | 0  | 1\n",
      "____|____|___\n",
      "    |    |  \n",
      " 1  | 0  | 0\n",
      "____|____|___\n",
      "    |    |  \n",
      " 2  | 0  | 0\n",
      "    |    |  \n",
      "    |    |   \n",
      " 2  | 0  | 1\n",
      "____|____|___\n",
      "    |    |  \n",
      " 1  | 0  | 0\n",
      "____|____|___\n",
      "    |    |  \n",
      " 2  | 2  | 0\n",
      "    |    |  \n",
      "    |    |   \n",
      " 2  | 1  | 1\n",
      "____|____|___\n",
      "    |    |  \n",
      " 1  | 0  | 0\n",
      "____|____|___\n",
      "    |    |  \n",
      " 2  | 2  | 0\n",
      "    |    |  \n",
      "    |    |   \n",
      " 2  | 1  | 1\n",
      "____|____|___\n",
      "    |    |  \n",
      " 1  | 0  | 0\n",
      "____|____|___\n",
      "    |    |  \n",
      " 2  | 2  | 2\n",
      "    |    |  \n"
     ]
    }
   ],
   "source": [
    "player = 2\n",
    "\n",
    "#start game\n",
    "game = tick_tack_toe()\n",
    "root = game.play(1, player)\n",
    "\n",
    "#root node\n",
    "current_node = Node(list(root[0].values()))\n",
    "\n",
    "#states\n",
    "states = {}\n",
    "states[tuple(root[0].values())] = current_node\n",
    "\n",
    "#tree\n",
    "tree = MCTS(states)\n",
    "\n",
    "for i in range(8):\n",
    "    \n",
    "    if player == 2:\n",
    "        player = 1\n",
    "    elif player == 1:\n",
    "        player = 2\n",
    "    \n",
    "    game_winner = ''\n",
    "        \n",
    "    path = []\n",
    "    new_node, move = tree.rand_move(current_node, player)\n",
    "    states[tuple(new_node.state)] = new_node\n",
    "    tree.simulate(new_node.state, path)\n",
    "    current_node.children.append(new_node)\n",
    "    current_node = new_node   \n",
    "    game.play(move, player)\n",
    "    \n",
    "    game.print_board()\n",
    "    \n",
    "    game_winner = game.check_winner()\n",
    "    \n",
    "    if game_winner == 1 or game_winner == 2:\n",
    "        \n",
    "        break"
   ]
  },
  {
   "cell_type": "code",
   "execution_count": 25,
   "id": "bbfb7505",
   "metadata": {},
   "outputs": [
    {
     "data": {
      "text/plain": [
       "{(2, 0, 0, 0, 0, 0, 0, 0, 0): <__main__.Node at 0x248a78d7d30>,\n",
       " (2, 0, 0, 1, 0, 0, 0, 0, 0): <__main__.Node at 0x248a78d7d30>,\n",
       " (2, 0, 0, 1, 0, 0, 2, 0, 0): <__main__.Node at 0x248a78d7d30>,\n",
       " (2, 0, 1, 1, 0, 0, 2, 0, 0): <__main__.Node at 0x248a78d7d30>,\n",
       " (2, 0, 1, 1, 0, 0, 2, 2, 0): <__main__.Node at 0x248a78d7d30>,\n",
       " (2, 1, 1, 1, 0, 0, 2, 2, 0): <__main__.Node at 0x248a78d7d30>,\n",
       " (2, 1, 1, 1, 0, 0, 2, 2, 2): <__main__.Node at 0x248a78d7d30>}"
      ]
     },
     "execution_count": 25,
     "metadata": {},
     "output_type": "execute_result"
    }
   ],
   "source": [
    "states"
   ]
  },
  {
   "cell_type": "code",
   "execution_count": null,
   "id": "8dbf0778",
   "metadata": {},
   "outputs": [],
   "source": []
  }
 ],
 "metadata": {
  "kernelspec": {
   "display_name": "Python 3",
   "language": "python",
   "name": "python3"
  },
  "language_info": {
   "codemirror_mode": {
    "name": "ipython",
    "version": 3
   },
   "file_extension": ".py",
   "mimetype": "text/x-python",
   "name": "python",
   "nbconvert_exporter": "python",
   "pygments_lexer": "ipython3",
   "version": "3.8.8"
  }
 },
 "nbformat": 4,
 "nbformat_minor": 5
}
