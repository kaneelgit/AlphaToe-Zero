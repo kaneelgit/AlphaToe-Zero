{
 "cells": [
  {
   "cell_type": "code",
   "execution_count": 18,
   "id": "80de8bd7",
   "metadata": {},
   "outputs": [],
   "source": [
    "from MonteCarloTreeSearch import Node"
   ]
  },
  {
   "cell_type": "code",
   "execution_count": 20,
   "id": "c071ed75",
   "metadata": {},
   "outputs": [
    {
     "name": "stdout",
     "output_type": "stream",
     "text": [
      "3\n"
     ]
    },
    {
     "data": {
      "text/plain": [
       "<MonteCarloTreeSearch.Node at 0x221d14239a0>"
      ]
     },
     "execution_count": 20,
     "metadata": {},
     "output_type": "execute_result"
    }
   ],
   "source": [
    "Node(3, 2)"
   ]
  },
  {
   "cell_type": "code",
   "execution_count": null,
   "id": "fe109a14",
   "metadata": {},
   "outputs": [],
   "source": []
  },
  {
   "cell_type": "code",
   "execution_count": null,
   "id": "cff90ac6",
   "metadata": {},
   "outputs": [],
   "source": []
  }
 ],
 "metadata": {
  "kernelspec": {
   "display_name": "Python 3",
   "language": "python",
   "name": "python3"
  },
  "language_info": {
   "codemirror_mode": {
    "name": "ipython",
    "version": 3
   },
   "file_extension": ".py",
   "mimetype": "text/x-python",
   "name": "python",
   "nbconvert_exporter": "python",
   "pygments_lexer": "ipython3",
   "version": "3.8.8"
  }
 },
 "nbformat": 4,
 "nbformat_minor": 5
}
