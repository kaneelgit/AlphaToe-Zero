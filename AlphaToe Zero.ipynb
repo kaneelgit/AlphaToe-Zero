{
 "cells": [
  {
   "cell_type": "code",
   "execution_count": 50,
   "id": "80de8bd7",
   "metadata": {},
   "outputs": [
    {
     "ename": "ImportError",
     "evalue": "cannot import name 'Node' from 'MonteCarloTreeSearch' (C:\\Users\\kanee\\Desktop\\git\\AlphaToe-Zero\\MonteCarloTreeSearch.py)",
     "output_type": "error",
     "traceback": [
      "\u001b[1;31m---------------------------------------------------------------------------\u001b[0m",
      "\u001b[1;31mImportError\u001b[0m                               Traceback (most recent call last)",
      "\u001b[1;32m<ipython-input-50-df29225f6afb>\u001b[0m in \u001b[0;36m<module>\u001b[1;34m\u001b[0m\n\u001b[1;32m----> 1\u001b[1;33m \u001b[1;32mfrom\u001b[0m \u001b[0mMonteCarloTreeSearch\u001b[0m \u001b[1;32mimport\u001b[0m \u001b[0mNode\u001b[0m\u001b[1;33m\u001b[0m\u001b[1;33m\u001b[0m\u001b[0m\n\u001b[0m",
      "\u001b[1;31mImportError\u001b[0m: cannot import name 'Node' from 'MonteCarloTreeSearch' (C:\\Users\\kanee\\Desktop\\git\\AlphaToe-Zero\\MonteCarloTreeSearch.py)"
     ]
    }
   ],
   "source": [
    "import MonteCarlo"
   ]
  },
  {
   "cell_type": "code",
   "execution_count": 46,
   "id": "c071ed75",
   "metadata": {},
   "outputs": [],
   "source": [
    "a = mcts"
   ]
  },
  {
   "cell_type": "code",
   "execution_count": 47,
   "id": "b4d00236",
   "metadata": {},
   "outputs": [
    {
     "ename": "AttributeError",
     "evalue": "module 'MonteCarloTreeSearch' has no attribute 'print_this'",
     "output_type": "error",
     "traceback": [
      "\u001b[1;31m---------------------------------------------------------------------------\u001b[0m",
      "\u001b[1;31mAttributeError\u001b[0m                            Traceback (most recent call last)",
      "\u001b[1;32m<ipython-input-47-7043b272e1a9>\u001b[0m in \u001b[0;36m<module>\u001b[1;34m\u001b[0m\n\u001b[1;32m----> 1\u001b[1;33m \u001b[0ma\u001b[0m\u001b[1;33m.\u001b[0m\u001b[0mprint_this\u001b[0m\u001b[1;33m(\u001b[0m\u001b[1;36m10\u001b[0m\u001b[1;33m)\u001b[0m\u001b[1;33m\u001b[0m\u001b[1;33m\u001b[0m\u001b[0m\n\u001b[0m",
      "\u001b[1;31mAttributeError\u001b[0m: module 'MonteCarloTreeSearch' has no attribute 'print_this'"
     ]
    }
   ],
   "source": [
    "a.print_this(10)"
   ]
  },
  {
   "cell_type": "code",
   "execution_count": null,
   "id": "fe109a14",
   "metadata": {},
   "outputs": [],
   "source": []
  }
 ],
 "metadata": {
  "kernelspec": {
   "display_name": "Python 3",
   "language": "python",
   "name": "python3"
  },
  "language_info": {
   "codemirror_mode": {
    "name": "ipython",
    "version": 3
   },
   "file_extension": ".py",
   "mimetype": "text/x-python",
   "name": "python",
   "nbconvert_exporter": "python",
   "pygments_lexer": "ipython3",
   "version": "3.8.8"
  }
 },
 "nbformat": 4,
 "nbformat_minor": 5
}
